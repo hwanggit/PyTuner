{
 "cells": [
  {
   "cell_type": "code",
   "execution_count": 19,
   "metadata": {},
   "outputs": [
    {
     "name": "stdout",
     "output_type": "stream",
     "text": [
      "(a4-)=415 [<-] to -> (a4 )=440\n"
     ]
    }
   ],
   "source": [
    "import matplotlib.pyplot as plt\n",
    "from scipy.io.wavfile import read\n",
    "from scipy.fftpack import fft,fftfreq\n",
    "import speech_recognition as sr\n",
    "import pyaudio\n",
    "import time\n",
    "import getHertz as hz\n",
    "import numpy as np\n",
    "from os import path\n",
    "outFile = \"wavData/result.wav\"\n",
    "fs, data = read(outFile)\n",
    "\n",
    "# Get frequency values\n",
    "samples = data.shape[0]\n",
    "datafft = fft(data)\n",
    "fftabs = abs(datafft)\n",
    "freqs = fftfreq(samples, 1/fs)\n",
    "\n",
    "maxData = -1\n",
    "freqFlag = 0\n",
    "\n",
    "# Get dictionary of frequencies and find min, max\n",
    "freqDict = hz.listFreq()\n",
    "maxFreq = int(freqDict[\"e5 \"] + 3)\n",
    "minFreq = int(freqDict[\"e2 \"] - 3)\n",
    "subData = fftabs[minFreq:(maxFreq+1)]\n",
    "maxData = max(subData)\n",
    "\n",
    "# Get the frequency of the maximum data value\n",
    "for i in range(0, len(subData)):\n",
    "    if subData[i] == maxData:\n",
    "        freqFlag = i\n",
    "        break\n",
    "\n",
    "# Define notes to search\n",
    "noteList = list(freqDict.keys())\n",
    "\n",
    "# Filter out duplicates\n",
    "for note in reversed(noteList):\n",
    "    if \"+\" in note:\n",
    "        noteList.remove(note)\n",
    "        \n",
    "# Search keys determine match\n",
    "for index in range(0, len(noteList)-1):\n",
    "    # Get low and high indexs/pitches\n",
    "    lowNote = index\n",
    "    highNote = index + 1\n",
    "    lowPitch = int(freqDict[noteList[lowNote]])\n",
    "    highPitch = int(freqDict[noteList[highNote]])\n",
    "    \n",
    "    # Find range of notes for this frequency\n",
    "    if freqFlag == lowPitch:\n",
    "        print(f'{noteList[lowNote]} - {freqFlag}')\n",
    "        break\n",
    "        \n",
    "    elif freqFlag == highPitch:\n",
    "        print(f'{noteList[highNote]} - {freqFlag}')\n",
    "        break\n",
    "   \n",
    "    elif lowPitch < freqFlag < highPitch:\n",
    "        halfWay = int((highPitch - lowPitch) * 0.5 + lowPitch)\n",
    "        if freqFlag == halfWay:\n",
    "            print(f'({noteList[lowNote]})={lowPitch} [to] ({noteList[highNote]})={highPitch}')\n",
    "        elif freqFlag > halfWay:\n",
    "            print(f'({noteList[lowNote]})={lowPitch} <- to [->] ({noteList[highNote]})={highPitch}')\n",
    "        else:\n",
    "            print(f'({noteList[lowNote]})={lowPitch} [<-] to -> ({noteList[highNote]})={highPitch}')\n",
    "    \n",
    "    else:\n",
    "        continue"
   ]
  },
  {
   "cell_type": "code",
   "execution_count": null,
   "metadata": {},
   "outputs": [],
   "source": []
  }
 ],
 "metadata": {
  "kernelspec": {
   "display_name": "Python 3",
   "language": "python",
   "name": "python3"
  },
  "language_info": {
   "codemirror_mode": {
    "name": "ipython",
    "version": 3
   },
   "file_extension": ".py",
   "mimetype": "text/x-python",
   "name": "python",
   "nbconvert_exporter": "python",
   "pygments_lexer": "ipython3",
   "version": "3.7.1"
  }
 },
 "nbformat": 4,
 "nbformat_minor": 2
}
